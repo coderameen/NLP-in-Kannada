{
 "cells": [
  {
   "cell_type": "code",
   "execution_count": 39,
   "id": "c2ef33cb-5f2c-4e69-b1d5-49f83e51474f",
   "metadata": {},
   "outputs": [
    {
     "name": "stderr",
     "output_type": "stream",
     "text": [
      "[nltk_data] Downloading package punkt_tab to\n",
      "[nltk_data]     C:\\Users\\Laptop\\AppData\\Roaming\\nltk_data...\n",
      "[nltk_data]   Package punkt_tab is already up-to-date!\n",
      "[nltk_data] Downloading package stopwords to\n",
      "[nltk_data]     C:\\Users\\Laptop\\AppData\\Roaming\\nltk_data...\n",
      "[nltk_data]   Package stopwords is already up-to-date!\n",
      "[nltk_data] Downloading package wordnet to\n",
      "[nltk_data]     C:\\Users\\Laptop\\AppData\\Roaming\\nltk_data...\n",
      "[nltk_data]   Package wordnet is already up-to-date!\n"
     ]
    },
    {
     "data": {
      "text/plain": [
       "'welcome to nlp processing this is an example text for demonstrating cleaning visit for more info i wa runn jumpd and playng yesterday html tag should be removed stopwords like the is an are common'"
      ]
     },
     "execution_count": 39,
     "metadata": {},
     "output_type": "execute_result"
    }
   ],
   "source": [
    "import re\n",
    "import nltk\n",
    "from nltk.tokenize import word_tokenize\n",
    "from nltk.corpus import stopwords\n",
    "from nltk.stem import PorterStemmer, WordNetLemmatizer\n",
    "import string\n",
    "nltk.download('punkt_tab')\n",
    "nltk.download('stopwords')\n",
    "nltk.download('wordnet')\n",
    "\n",
    "stop_words = set(stopwords.words(\"english\"))\n",
    "lemmatizer = WordNetLemmatizer()\n",
    "\n",
    "def cleaning_text(text):\n",
    "    #1.applying lower case\n",
    "    text = text.lower()\n",
    "    #2. Removing HTML Tags\n",
    "    text = re.sub(r\"<.*?>\", \"\", text)\n",
    "    #3. Removing URLs Tags\n",
    "    text = re.sub(r\"http[s]?://\\S+\", \"\", text)\n",
    "    #4. Remove Punctuation\n",
    "    text = text.translate(str.maketrans(\"\",\"\",string.punctuation))\n",
    "    #4. Apply Tokenization\n",
    "    tokens = word_tokenize(text)\n",
    "    #5. Removing stopwords\n",
    "    '''\n",
    "    clean_text = []\n",
    "    for word in tokens:\n",
    "        if word not in stop_words:\n",
    "            clean_text.append(word)\n",
    "    '''\n",
    "    clean_tokens = [word for word in tokens if word not in stop_words]\n",
    "\n",
    "    #Finally applying lemmitization for better results\n",
    "    final_clean_tokens = [lemmatizer.lemmatize(word) for word in tokens]\n",
    "            \n",
    "    return \" \".join(final_clean_tokens)\n",
    "\n",
    "text = \"\"\"\n",
    "<h1>WELCOME to NLP Processing!</h1>\n",
    "This is an example text for demonstrating cleaning. \n",
    "Visit https://www.example.com for more info. \n",
    "I was runn, jumpd, and playng yesterday! \n",
    "HTML tags <p>should</p> be removed. Stopwords like \"the\", \"is\", \"an\" are common.\n",
    "\"\"\"\n",
    "cleaning_text(text)"
   ]
  },
  {
   "cell_type": "code",
   "execution_count": 40,
   "id": "27e31909-07fc-44d4-b69a-e06eff702773",
   "metadata": {},
   "outputs": [
    {
     "data": {
      "text/html": [
       "<div>\n",
       "<style scoped>\n",
       "    .dataframe tbody tr th:only-of-type {\n",
       "        vertical-align: middle;\n",
       "    }\n",
       "\n",
       "    .dataframe tbody tr th {\n",
       "        vertical-align: top;\n",
       "    }\n",
       "\n",
       "    .dataframe thead th {\n",
       "        text-align: right;\n",
       "    }\n",
       "</style>\n",
       "<table border=\"1\" class=\"dataframe\">\n",
       "  <thead>\n",
       "    <tr style=\"text-align: right;\">\n",
       "      <th></th>\n",
       "      <th>tweet</th>\n",
       "      <th>sarcastic</th>\n",
       "    </tr>\n",
       "  </thead>\n",
       "  <tbody>\n",
       "    <tr>\n",
       "      <th>0</th>\n",
       "      <td>The only thing I got from college is a caffein...</td>\n",
       "      <td>1</td>\n",
       "    </tr>\n",
       "    <tr>\n",
       "      <th>1</th>\n",
       "      <td>I love it when professors draw a big question ...</td>\n",
       "      <td>1</td>\n",
       "    </tr>\n",
       "    <tr>\n",
       "      <th>2</th>\n",
       "      <td>Remember the hundred emails from companies whe...</td>\n",
       "      <td>1</td>\n",
       "    </tr>\n",
       "    <tr>\n",
       "      <th>3</th>\n",
       "      <td>Today my pop-pop told me I was not “forced” to...</td>\n",
       "      <td>1</td>\n",
       "    </tr>\n",
       "    <tr>\n",
       "      <th>4</th>\n",
       "      <td>@VolphanCarol @littlewhitty @mysticalmanatee I...</td>\n",
       "      <td>1</td>\n",
       "    </tr>\n",
       "  </tbody>\n",
       "</table>\n",
       "</div>"
      ],
      "text/plain": [
       "                                               tweet  sarcastic\n",
       "0  The only thing I got from college is a caffein...          1\n",
       "1  I love it when professors draw a big question ...          1\n",
       "2  Remember the hundred emails from companies whe...          1\n",
       "3  Today my pop-pop told me I was not “forced” to...          1\n",
       "4  @VolphanCarol @littlewhitty @mysticalmanatee I...          1"
      ]
     },
     "execution_count": 40,
     "metadata": {},
     "output_type": "execute_result"
    }
   ],
   "source": [
    "import pandas as pd\n",
    "df = pd.read_csv(\"Sarcasm.csv\")\n",
    "# df.head()\n",
    "df = df[['tweet', 'sarcastic']]\n",
    "df.head()"
   ]
  },
  {
   "cell_type": "code",
   "execution_count": 41,
   "id": "fbf961f7-c503-426c-b198-da52104c132f",
   "metadata": {},
   "outputs": [
    {
     "data": {
      "text/plain": [
       "tweet        1\n",
       "sarcastic    0\n",
       "dtype: int64"
      ]
     },
     "execution_count": 41,
     "metadata": {},
     "output_type": "execute_result"
    }
   ],
   "source": [
    "df.isnull().sum()"
   ]
  },
  {
   "cell_type": "code",
   "execution_count": 42,
   "id": "470f4076-cca0-4968-9188-2f07eeeab45e",
   "metadata": {},
   "outputs": [
    {
     "data": {
      "text/plain": [
       "tweet        0\n",
       "sarcastic    0\n",
       "dtype: int64"
      ]
     },
     "execution_count": 42,
     "metadata": {},
     "output_type": "execute_result"
    }
   ],
   "source": [
    "df.dropna(inplace=True)\n",
    "df.isnull().sum()"
   ]
  },
  {
   "cell_type": "code",
   "execution_count": 43,
   "id": "06a25357-5229-4381-b342-26a59beaa3f9",
   "metadata": {},
   "outputs": [],
   "source": [
    "df['tweet'] = df['tweet'].apply(cleaning_text)"
   ]
  },
  {
   "cell_type": "code",
   "execution_count": 44,
   "id": "fc89d640-3d18-4779-90df-44605d1f2c69",
   "metadata": {},
   "outputs": [
    {
     "data": {
      "text/plain": [
       "0       the only thing i got from college is a caffein...\n",
       "1       i love it when professor draw a big question m...\n",
       "2       remember the hundred email from company when c...\n",
       "3       today my poppop told me i wa not “ forced ” to...\n",
       "4       volphancarol littlewhitty mysticalmanatee i di...\n",
       "                              ...                        \n",
       "3463    the population spike in chicago in 9 month is ...\n",
       "3464    youd think in the second to last english class...\n",
       "3465    i ’ m finally surfacing after a holiday to sco...\n",
       "3466    couldnt be prouder today well done to every st...\n",
       "3467    overheard a my 13 year old game with a friend ...\n",
       "Name: tweet, Length: 3467, dtype: object"
      ]
     },
     "execution_count": 44,
     "metadata": {},
     "output_type": "execute_result"
    }
   ],
   "source": [
    "df['tweet']"
   ]
  },
  {
   "cell_type": "code",
   "execution_count": null,
   "id": "4fdb7eea-67ab-4779-8189-3f4aae0f7165",
   "metadata": {},
   "outputs": [],
   "source": []
  }
 ],
 "metadata": {
  "kernelspec": {
   "display_name": "Python 3 (ipykernel)",
   "language": "python",
   "name": "python3"
  },
  "language_info": {
   "codemirror_mode": {
    "name": "ipython",
    "version": 3
   },
   "file_extension": ".py",
   "mimetype": "text/x-python",
   "name": "python",
   "nbconvert_exporter": "python",
   "pygments_lexer": "ipython3",
   "version": "3.13.6"
  }
 },
 "nbformat": 4,
 "nbformat_minor": 5
}
