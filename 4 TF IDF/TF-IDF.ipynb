{
 "cells": [
  {
   "cell_type": "code",
   "execution_count": 3,
   "id": "14934a1f-c576-441e-86b1-60dc33ffa49d",
   "metadata": {},
   "outputs": [
    {
     "data": {
      "text/plain": [
       "array([[0.28281359, 0.        , 0.50199209, 0.        , 0.        ,\n",
       "        0.        , 0.        , 0.        , 0.        , 0.        ,\n",
       "        0.        , 0.50199209, 0.        , 0.        , 0.40500406,\n",
       "        0.50199209, 0.        , 0.        , 0.        , 0.        ],\n",
       "       [0.28281359, 0.        , 0.        , 0.50199209, 0.        ,\n",
       "        0.        , 0.        , 0.        , 0.        , 0.40500406,\n",
       "        0.        , 0.        , 0.        , 0.        , 0.        ,\n",
       "        0.        , 0.        , 0.50199209, 0.50199209, 0.        ],\n",
       "       [0.27113917, 0.        , 0.        , 0.        , 0.48127008,\n",
       "        0.48127008, 0.        , 0.        , 0.        , 0.        ,\n",
       "        0.        , 0.        , 0.48127008, 0.48127008, 0.        ,\n",
       "        0.        , 0.        , 0.        , 0.        , 0.        ],\n",
       "       [0.23766483, 0.42185336, 0.        , 0.        , 0.        ,\n",
       "        0.        , 0.        , 0.        , 0.        , 0.34034864,\n",
       "        0.42185336, 0.        , 0.        , 0.        , 0.34034864,\n",
       "        0.        , 0.42185336, 0.        , 0.        , 0.42185336],\n",
       "       [0.        , 0.        , 0.        , 0.        , 0.        ,\n",
       "        0.        , 0.57735027, 0.57735027, 0.57735027, 0.        ,\n",
       "        0.        , 0.        , 0.        , 0.        , 0.        ,\n",
       "        0.        , 0.        , 0.        , 0.        , 0.        ]])"
      ]
     },
     "execution_count": 3,
     "metadata": {},
     "output_type": "execute_result"
    }
   ],
   "source": [
    "from sklearn.feature_extraction.text import TfidfVectorizer\n",
    "\n",
    "#Sample sentences\n",
    "sentences = [\n",
    "    \"AI is transforming industries\",\n",
    "    \"AI is used in healthcare\",\n",
    "    \"Deep Learning is part of AI\",\n",
    "    \"AI and healthcare are transforming the world\",\n",
    "    \"Another field is finance\"\n",
    "]\n",
    "\n",
    "#Initialize the vectorizer with custom parameters\n",
    "vectorizer = TfidfVectorizer(\n",
    "    max_df=0.85,\n",
    "    min_df=1,\n",
    "    ngram_range=(1,2),\n",
    "    stop_words = 'english'\n",
    ")\n",
    "\n",
    "#Fit and transform the corpus\n",
    "X = vectorizer.fit_transform(sentences)\n",
    "\n",
    "#Convert to a dense array (if necessary) and print the result\n",
    "X.toarray()"
   ]
  },
  {
   "cell_type": "code",
   "execution_count": null,
   "id": "d40c42e0-7694-4865-8b9f-5aca4f11ce1a",
   "metadata": {},
   "outputs": [],
   "source": []
  }
 ],
 "metadata": {
  "kernelspec": {
   "display_name": "Python 3 (ipykernel)",
   "language": "python",
   "name": "python3"
  },
  "language_info": {
   "codemirror_mode": {
    "name": "ipython",
    "version": 3
   },
   "file_extension": ".py",
   "mimetype": "text/x-python",
   "name": "python",
   "nbconvert_exporter": "python",
   "pygments_lexer": "ipython3",
   "version": "3.13.6"
  }
 },
 "nbformat": 4,
 "nbformat_minor": 5
}
